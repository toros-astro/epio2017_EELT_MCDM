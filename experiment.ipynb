{
 "cells": [
  {
   "cell_type": "markdown",
   "metadata": {
    "deletable": true,
    "editable": true
   },
   "source": [
    "## European Extremely Large Telescope site selection \n",
    "## a comparison between real selection and multicriteria-decision-analysis suggestions\n",
    "\n",
    "\n",
    "Juan B Cabral – Bruno O Sanchez  – Manuel Starck Cuffini\n",
    "\n",
    "Instituto de Astronomía Teórica y Experimental\n",
    "\n",
    "jbcabral@oac.unc.edu.ar- bruno@oac.unc.edu.ar- mstarck@oac.unc.edu.ar"
   ]
  },
  {
   "cell_type": "markdown",
   "metadata": {
    "deletable": true,
    "editable": true
   },
   "source": [
    "### Data Mangling"
   ]
  },
  {
   "cell_type": "code",
   "execution_count": 1,
   "metadata": {
    "collapsed": false,
    "deletable": true,
    "editable": true
   },
   "outputs": [],
   "source": [
    "import pandas as pd\n",
    "\n",
    "import numpy as np\n",
    "\n",
    "import skcriteria as sc\n",
    "from skcriteria.madm import topsis, wsum, moora, wprod, electre"
   ]
  },
  {
   "cell_type": "code",
   "execution_count": 2,
   "metadata": {
    "collapsed": false,
    "deletable": true,
    "editable": true
   },
   "outputs": [
    {
     "data": {
      "text/html": [
       "<div>\n",
       "<table border=\"1\" class=\"dataframe\">\n",
       "  <thead>\n",
       "    <tr style=\"text-align: right;\">\n",
       "      <th></th>\n",
       "      <th>Criteria/Alternatives</th>\n",
       "      <th>Criteria</th>\n",
       "      <th>Armazones</th>\n",
       "      <th>Aklim</th>\n",
       "      <th>ORM</th>\n",
       "      <th>Ventarrones</th>\n",
       "      <th>Macon</th>\n",
       "    </tr>\n",
       "  </thead>\n",
       "  <tbody>\n",
       "    <tr>\n",
       "      <th>0</th>\n",
       "      <td>Final Status</td>\n",
       "      <td>-</td>\n",
       "      <td>Selected</td>\n",
       "      <td>NaN</td>\n",
       "      <td>Reference North</td>\n",
       "      <td>Reference South</td>\n",
       "      <td>NaN</td>\n",
       "    </tr>\n",
       "    <tr>\n",
       "      <th>1</th>\n",
       "      <td>Hemisphere</td>\n",
       "      <td>-</td>\n",
       "      <td>S</td>\n",
       "      <td>N</td>\n",
       "      <td>N</td>\n",
       "      <td>S</td>\n",
       "      <td>S</td>\n",
       "    </tr>\n",
       "    <tr>\n",
       "      <th>2</th>\n",
       "      <td>Location</td>\n",
       "      <td>-</td>\n",
       "      <td>Chile</td>\n",
       "      <td>Morroco</td>\n",
       "      <td>Canarias (Spain)</td>\n",
       "      <td>Chile</td>\n",
       "      <td>Argentina</td>\n",
       "    </tr>\n",
       "    <tr>\n",
       "      <th>3</th>\n",
       "      <td>Altitude (AMSL)</td>\n",
       "      <td>max</td>\n",
       "      <td>3064</td>\n",
       "      <td>2350</td>\n",
       "      <td>2346</td>\n",
       "      <td>2837</td>\n",
       "      <td>4653</td>\n",
       "    </tr>\n",
       "    <tr>\n",
       "      <th>4</th>\n",
       "      <td>Total seeing ε (′′)</td>\n",
       "      <td>min</td>\n",
       "      <td>0.64</td>\n",
       "      <td>1.00</td>\n",
       "      <td>0.80</td>\n",
       "      <td>0.91</td>\n",
       "      <td>0.87</td>\n",
       "    </tr>\n",
       "    <tr>\n",
       "      <th>5</th>\n",
       "      <td>Isoplanatic angle θ 0 (′′)</td>\n",
       "      <td>max</td>\n",
       "      <td>2.04</td>\n",
       "      <td>1.29</td>\n",
       "      <td>1.93</td>\n",
       "      <td>1.96</td>\n",
       "      <td>1.37</td>\n",
       "    </tr>\n",
       "    <tr>\n",
       "      <th>6</th>\n",
       "      <td>Coherence time τ 0 (ms)</td>\n",
       "      <td>max</td>\n",
       "      <td>4.6</td>\n",
       "      <td>3.53</td>\n",
       "      <td>5.58</td>\n",
       "      <td>4.90</td>\n",
       "      <td>3.37</td>\n",
       "    </tr>\n",
       "    <tr>\n",
       "      <th>7</th>\n",
       "      <td>Optical étendue G 0 (m 2 ms arcsec 2 )</td>\n",
       "      <td>min</td>\n",
       "      <td>NaN</td>\n",
       "      <td>0.05</td>\n",
       "      <td>0.38</td>\n",
       "      <td>0.26</td>\n",
       "      <td>0.10</td>\n",
       "    </tr>\n",
       "    <tr>\n",
       "      <th>8</th>\n",
       "      <td>Free-atmosphere seeing (′′) ε FA</td>\n",
       "      <td>max</td>\n",
       "      <td>NaN</td>\n",
       "      <td>0.52</td>\n",
       "      <td>0.31</td>\n",
       "      <td>0.55</td>\n",
       "      <td>0.66</td>\n",
       "    </tr>\n",
       "    <tr>\n",
       "      <th>9</th>\n",
       "      <td>Boundary-layer seeing (′′) ε BL</td>\n",
       "      <td>NaN</td>\n",
       "      <td>NaN</td>\n",
       "      <td>0.77</td>\n",
       "      <td>0.65</td>\n",
       "      <td>0.60</td>\n",
       "      <td>0.51</td>\n",
       "    </tr>\n",
       "    <tr>\n",
       "      <th>10</th>\n",
       "      <td>Cloud: clear fraction (%)</td>\n",
       "      <td>max</td>\n",
       "      <td>89</td>\n",
       "      <td>76</td>\n",
       "      <td>84</td>\n",
       "      <td>85</td>\n",
       "      <td>75</td>\n",
       "    </tr>\n",
       "    <tr>\n",
       "      <th>11</th>\n",
       "      <td>Night temperature at 2 m (°C)</td>\n",
       "      <td>min</td>\n",
       "      <td>7.5</td>\n",
       "      <td>12.5</td>\n",
       "      <td>7.3</td>\n",
       "      <td>10.9</td>\n",
       "      <td>-0.2</td>\n",
       "    </tr>\n",
       "    <tr>\n",
       "      <th>12</th>\n",
       "      <td>Night relative humidity at 2 m (%)</td>\n",
       "      <td>min</td>\n",
       "      <td>21</td>\n",
       "      <td>32</td>\n",
       "      <td>21</td>\n",
       "      <td>14</td>\n",
       "      <td>20</td>\n",
       "    </tr>\n",
       "    <tr>\n",
       "      <th>13</th>\n",
       "      <td>Night wind speed at 10 m (m=s)</td>\n",
       "      <td>min</td>\n",
       "      <td>7.2*</td>\n",
       "      <td>6.2</td>\n",
       "      <td>8.2</td>\n",
       "      <td>5.9</td>\n",
       "      <td>11.3</td>\n",
       "    </tr>\n",
       "    <tr>\n",
       "      <th>14</th>\n",
       "      <td>Night pressure at 2 m</td>\n",
       "      <td>min</td>\n",
       "      <td>NaN</td>\n",
       "      <td>767.0</td>\n",
       "      <td>772.4</td>\n",
       "      <td>727.0</td>\n",
       "      <td>581.8</td>\n",
       "    </tr>\n",
       "  </tbody>\n",
       "</table>\n",
       "</div>"
      ],
      "text/plain": [
       "                        Criteria/Alternatives Criteria Armazones    Aklim  \\\n",
       "0                                Final Status        -  Selected      NaN   \n",
       "1                                  Hemisphere        -         S        N   \n",
       "2                                    Location        -     Chile  Morroco   \n",
       "3                             Altitude (AMSL)      max      3064     2350   \n",
       "4                         Total seeing ε (′′)      min      0.64     1.00   \n",
       "5                  Isoplanatic angle θ 0 (′′)      max      2.04     1.29   \n",
       "6                    Coherence time τ 0 (ms)       max       4.6     3.53   \n",
       "7     Optical étendue G 0 (m 2 ms arcsec 2 )       min       NaN     0.05   \n",
       "8   Free-atmosphere seeing (′′) ε FA               max       NaN     0.52   \n",
       "9   Boundary-layer seeing (′′) ε BL                NaN       NaN     0.77   \n",
       "10  Cloud: clear fraction (%)                      max        89       76   \n",
       "11    Night temperature at 2 m (°C)                min       7.5     12.5   \n",
       "12    Night relative humidity at 2 m (%)           min        21       32   \n",
       "13      Night wind speed at 10 m (m=s)             min      7.2*      6.2   \n",
       "14                      Night pressure at 2 m      min       NaN    767.0   \n",
       "\n",
       "                 ORM      Ventarrones      Macon  \n",
       "0    Reference North  Reference South        NaN  \n",
       "1                  N                S          S  \n",
       "2   Canarias (Spain)            Chile  Argentina  \n",
       "3               2346             2837       4653  \n",
       "4               0.80             0.91       0.87  \n",
       "5               1.93             1.96       1.37  \n",
       "6               5.58             4.90       3.37  \n",
       "7               0.38             0.26       0.10  \n",
       "8               0.31             0.55       0.66  \n",
       "9               0.65             0.60       0.51  \n",
       "10                84               85         75  \n",
       "11               7.3             10.9       -0.2  \n",
       "12                21               14         20  \n",
       "13               8.2              5.9       11.3  \n",
       "14             772.4            727.0      581.8  "
      ]
     },
     "execution_count": 2,
     "metadata": {},
     "output_type": "execute_result"
    }
   ],
   "source": [
    "df = pd.read_csv(\"sites.csv\")[:-3]\n",
    "df"
   ]
  },
  {
   "cell_type": "code",
   "execution_count": 3,
   "metadata": {
    "collapsed": false,
    "deletable": true,
    "editable": true
   },
   "outputs": [],
   "source": [
    "anames = df.columns[2:].values\n",
    "\n",
    "def to_apply(r):\n",
    "    new = []\n",
    "    for e in r:\n",
    "        if isinstance(e , str):\n",
    "            e = float(e.replace(\"*\", \"\"))\n",
    "        new.append(e)\n",
    "    return new\n",
    "\n",
    "mtx = df[anames][3:].dropna()[anames].apply(to_apply).T.values\n",
    "criteria = [sc.MIN if c == \"min\" else sc.MAX for c in df.Criteria[3:][~df.Armazones.isnull()].values]\n",
    "\n",
    "cnames = df[\"Criteria/Alternatives\"][3:].apply(lambda r: r.strip())[~df[3:].Armazones.isnull()].values\n",
    "cnames = map(lambda s: s.decode(\"utf8\"), cnames)\n",
    "\n",
    "data = sc.Data(mtx, criteria, anames=anames, cnames=cnames)"
   ]
  },
  {
   "cell_type": "markdown",
   "metadata": {
    "deletable": true,
    "editable": true
   },
   "source": [
    "### Final Data"
   ]
  },
  {
   "cell_type": "code",
   "execution_count": 4,
   "metadata": {
    "collapsed": false,
    "deletable": true,
    "editable": true
   },
   "outputs": [
    {
     "data": {
      "text/html": [
       "<table>\n",
       "<thead>\n",
       "<tr><th style=\"text-align: center;\"> ALT./CRIT. </th><th style=\"text-align: center;\"> Altitude (AMSL) (max) </th><th style=\"text-align: center;\"> Total seeing ε (′′) (min) </th><th style=\"text-align: center;\"> Isoplanatic angle θ 0 (′′) (max) </th><th style=\"text-align: center;\"> Coherence time τ 0 (ms) (max) </th><th style=\"text-align: center;\"> Cloud: clear fraction (%) (max) </th><th style=\"text-align: center;\"> Night temperature at 2 m (°C) (min) </th><th style=\"text-align: center;\"> Night relative humidity at 2 m (%) (min) </th><th style=\"text-align: center;\"> Night wind speed at 10 m (m=s) (min) </th></tr>\n",
       "</thead>\n",
       "<tbody>\n",
       "<tr><td style=\"text-align: center;\"> Armazones  </td><td style=\"text-align: center;\">         3064          </td><td style=\"text-align: center;\">           0.64            </td><td style=\"text-align: center;\">               2.04               </td><td style=\"text-align: center;\">              4.6              </td><td style=\"text-align: center;\">               89                </td><td style=\"text-align: center;\">                 7.5                 </td><td style=\"text-align: center;\">                    21                    </td><td style=\"text-align: center;\">                 7.2                  </td></tr>\n",
       "<tr><td style=\"text-align: center;\">   Aklim    </td><td style=\"text-align: center;\">         2350          </td><td style=\"text-align: center;\">             1             </td><td style=\"text-align: center;\">               1.29               </td><td style=\"text-align: center;\">             3.53              </td><td style=\"text-align: center;\">               76                </td><td style=\"text-align: center;\">                12.5                 </td><td style=\"text-align: center;\">                    32                    </td><td style=\"text-align: center;\">                 6.2                  </td></tr>\n",
       "<tr><td style=\"text-align: center;\">    ORM     </td><td style=\"text-align: center;\">         2346          </td><td style=\"text-align: center;\">            0.8            </td><td style=\"text-align: center;\">               1.93               </td><td style=\"text-align: center;\">             5.58              </td><td style=\"text-align: center;\">               84                </td><td style=\"text-align: center;\">                 7.3                 </td><td style=\"text-align: center;\">                    21                    </td><td style=\"text-align: center;\">                 8.2                  </td></tr>\n",
       "<tr><td style=\"text-align: center;\">Ventarrones </td><td style=\"text-align: center;\">         2837          </td><td style=\"text-align: center;\">           0.91            </td><td style=\"text-align: center;\">               1.96               </td><td style=\"text-align: center;\">              4.9              </td><td style=\"text-align: center;\">               85                </td><td style=\"text-align: center;\">                10.9                 </td><td style=\"text-align: center;\">                    14                    </td><td style=\"text-align: center;\">                 5.9                  </td></tr>\n",
       "<tr><td style=\"text-align: center;\">   Macon    </td><td style=\"text-align: center;\">         4653          </td><td style=\"text-align: center;\">           0.87            </td><td style=\"text-align: center;\">               1.37               </td><td style=\"text-align: center;\">             3.37              </td><td style=\"text-align: center;\">               75                </td><td style=\"text-align: center;\">                -0.2                 </td><td style=\"text-align: center;\">                    20                    </td><td style=\"text-align: center;\">                 11.3                 </td></tr>\n",
       "</tbody>\n",
       "</table>"
      ],
      "text/plain": [
       " ALT./CRIT.    Altitude (AMSL) (max)    Total seeing ? (??) (min)    Isoplanatic angle ? 0 (??) (max)    Coherence time ? 0 (ms) (max)    Cloud: clear fraction (%) (max)    Night temperature at 2 m (?C) (min)    Night relative humidity at 2 m (%) (min)    Night wind speed at 10 m (m=s) (min)\n",
       "------------  -----------------------  ---------------------------  ----------------------------------  -------------------------------  ---------------------------------  -------------------------------------  ------------------------------------------  --------------------------------------\n",
       " Armazones             3064                       0.64                             2.04                               4.6                               89                                   7.5                                       21                                       7.2\n",
       "   Aklim               2350                         1                              1.29                              3.53                               76                                  12.5                                       32                                       6.2\n",
       "    ORM                2346                        0.8                             1.93                              5.58                               84                                   7.3                                       21                                       8.2\n",
       "Ventarrones            2837                       0.91                             1.96                               4.9                               85                                  10.9                                       14                                       5.9\n",
       "   Macon               4653                       0.87                             1.37                              3.37                               75                                  -0.2                                       20                                       11.3"
      ]
     },
     "execution_count": 4,
     "metadata": {},
     "output_type": "execute_result"
    }
   ],
   "source": [
    "data"
   ]
  },
  {
   "cell_type": "markdown",
   "metadata": {
    "deletable": true,
    "editable": true
   },
   "source": [
    "### TOPSIS\n",
    "https://en.wikipedia.org/wiki/TOPSIS"
   ]
  },
  {
   "cell_type": "code",
   "execution_count": 5,
   "metadata": {
    "collapsed": false,
    "deletable": true,
    "editable": true
   },
   "outputs": [
    {
     "data": {
      "text/html": [
       "<div id='dec-a17e78f4-41b1-11e7-a92e-d85de264446f'><p><b>TOPSIS (mnorm=vector, wnorm=sum) - Solution:</b></p><table>\n",
       "<thead>\n",
       "<tr><th style=\"text-align: center;\"> ALT./CRIT. </th><th style=\"text-align: center;\"> Altitude (AMSL) (max) </th><th style=\"text-align: center;\"> Total seeing ε (′′) (min) </th><th style=\"text-align: center;\"> Isoplanatic angle θ 0 (′′) (max) </th><th style=\"text-align: center;\"> Coherence time τ 0 (ms) (max) </th><th style=\"text-align: center;\"> Cloud: clear fraction (%) (max) </th><th style=\"text-align: center;\"> Night temperature at 2 m (°C) (min) </th><th style=\"text-align: center;\"> Night relative humidity at 2 m (%) (min) </th><th style=\"text-align: center;\"> Night wind speed at 10 m (m=s) (min) </th><th style=\"text-align: center;\"> Rank </th></tr>\n",
       "</thead>\n",
       "<tbody>\n",
       "<tr><td style=\"text-align: center;\"> Armazones  </td><td style=\"text-align: center;\">         3064          </td><td style=\"text-align: center;\">           0.64            </td><td style=\"text-align: center;\">               2.04               </td><td style=\"text-align: center;\">              4.6              </td><td style=\"text-align: center;\">               89                </td><td style=\"text-align: center;\">                 7.5                 </td><td style=\"text-align: center;\">                    21                    </td><td style=\"text-align: center;\">                 7.2                  </td><td style=\"text-align: center;\">  2   </td></tr>\n",
       "<tr><td style=\"text-align: center;\">   Aklim    </td><td style=\"text-align: center;\">         2350          </td><td style=\"text-align: center;\">             1             </td><td style=\"text-align: center;\">               1.29               </td><td style=\"text-align: center;\">             3.53              </td><td style=\"text-align: center;\">               76                </td><td style=\"text-align: center;\">                12.5                 </td><td style=\"text-align: center;\">                    32                    </td><td style=\"text-align: center;\">                 6.2                  </td><td style=\"text-align: center;\">  5   </td></tr>\n",
       "<tr><td style=\"text-align: center;\">    ORM     </td><td style=\"text-align: center;\">         2346          </td><td style=\"text-align: center;\">            0.8            </td><td style=\"text-align: center;\">               1.93               </td><td style=\"text-align: center;\">             5.58              </td><td style=\"text-align: center;\">               84                </td><td style=\"text-align: center;\">                 7.3                 </td><td style=\"text-align: center;\">                    21                    </td><td style=\"text-align: center;\">                 8.2                  </td><td style=\"text-align: center;\">  3   </td></tr>\n",
       "<tr><td style=\"text-align: center;\">Ventarrones </td><td style=\"text-align: center;\">         2837          </td><td style=\"text-align: center;\">           0.91            </td><td style=\"text-align: center;\">               1.96               </td><td style=\"text-align: center;\">              4.9              </td><td style=\"text-align: center;\">               85                </td><td style=\"text-align: center;\">                10.9                 </td><td style=\"text-align: center;\">                    14                    </td><td style=\"text-align: center;\">                 5.9                  </td><td style=\"text-align: center;\">  4   </td></tr>\n",
       "<tr><td style=\"text-align: center;\">   Macon    </td><td style=\"text-align: center;\">         4653          </td><td style=\"text-align: center;\">           0.87            </td><td style=\"text-align: center;\">               1.37               </td><td style=\"text-align: center;\">             3.37              </td><td style=\"text-align: center;\">               75                </td><td style=\"text-align: center;\">                -0.2                 </td><td style=\"text-align: center;\">                    20                    </td><td style=\"text-align: center;\">                 11.3                 </td><td style=\"text-align: center;\">  1   </td></tr>\n",
       "</tbody>\n",
       "</table></div>"
      ],
      "text/plain": [
       "TOPSIS (mnorm=vector, wnorm=sum) - Solution:\n",
       " ALT./CRIT.    Altitude (AMSL) (max)    Total seeing ? (??) (min)    Isoplanatic angle ? 0 (??) (max)    Coherence time ? 0 (ms) (max)    Cloud: clear fraction (%) (max)    Night temperature at 2 m (?C) (min)    Night relative humidity at 2 m (%) (min)    Night wind speed at 10 m (m=s) (min)    Rank\n",
       "------------  -----------------------  ---------------------------  ----------------------------------  -------------------------------  ---------------------------------  -------------------------------------  ------------------------------------------  --------------------------------------  ------\n",
       " Armazones             3064                       0.64                             2.04                               4.6                               89                                   7.5                                       21                                       7.2                      2\n",
       "   Aklim               2350                         1                              1.29                              3.53                               76                                  12.5                                       32                                       6.2                      5\n",
       "    ORM                2346                        0.8                             1.93                              5.58                               84                                   7.3                                       21                                       8.2                      3\n",
       "Ventarrones            2837                       0.91                             1.96                               4.9                               85                                  10.9                                       14                                       5.9                      4\n",
       "   Macon               4653                       0.87                             1.37                              3.37                               75                                  -0.2                                       20                                       11.3                     1"
      ]
     },
     "execution_count": 5,
     "metadata": {},
     "output_type": "execute_result"
    }
   ],
   "source": [
    "dm = topsis.TOPSIS()\n",
    "topsis_dec = dm.decide(data)\n",
    "topsis_dec"
   ]
  },
  {
   "cell_type": "markdown",
   "metadata": {
    "deletable": true,
    "editable": true
   },
   "source": [
    "### Weighted Sum Model\n",
    "\n",
    "https://en.wikipedia.org/wiki/Weighted_sum_model"
   ]
  },
  {
   "cell_type": "code",
   "execution_count": 6,
   "metadata": {
    "collapsed": false,
    "deletable": true,
    "editable": true
   },
   "outputs": [
    {
     "data": {
      "text/html": [
       "<div id='dec-a17e78f5-41b1-11e7-a92e-d85de264446f'><p><b>MDWeightedSum (mnorm=sum, wnorm=sum) - Solution:</b></p><table>\n",
       "<thead>\n",
       "<tr><th style=\"text-align: center;\"> ALT./CRIT. </th><th style=\"text-align: center;\"> Altitude (AMSL) (max) </th><th style=\"text-align: center;\"> Total seeing ε (′′) (min) </th><th style=\"text-align: center;\"> Isoplanatic angle θ 0 (′′) (max) </th><th style=\"text-align: center;\"> Coherence time τ 0 (ms) (max) </th><th style=\"text-align: center;\"> Cloud: clear fraction (%) (max) </th><th style=\"text-align: center;\"> Night temperature at 2 m (°C) (min) </th><th style=\"text-align: center;\"> Night relative humidity at 2 m (%) (min) </th><th style=\"text-align: center;\"> Night wind speed at 10 m (m=s) (min) </th><th style=\"text-align: center;\"> Rank </th></tr>\n",
       "</thead>\n",
       "<tbody>\n",
       "<tr><td style=\"text-align: center;\"> Armazones  </td><td style=\"text-align: center;\">         3064          </td><td style=\"text-align: center;\">           0.64            </td><td style=\"text-align: center;\">               2.04               </td><td style=\"text-align: center;\">              4.6              </td><td style=\"text-align: center;\">               89                </td><td style=\"text-align: center;\">                 7.5                 </td><td style=\"text-align: center;\">                    21                    </td><td style=\"text-align: center;\">                 7.2                  </td><td style=\"text-align: center;\">  1   </td></tr>\n",
       "<tr><td style=\"text-align: center;\">   Aklim    </td><td style=\"text-align: center;\">         2350          </td><td style=\"text-align: center;\">             1             </td><td style=\"text-align: center;\">               1.29               </td><td style=\"text-align: center;\">             3.53              </td><td style=\"text-align: center;\">               76                </td><td style=\"text-align: center;\">                12.5                 </td><td style=\"text-align: center;\">                    32                    </td><td style=\"text-align: center;\">                 6.2                  </td><td style=\"text-align: center;\">  5   </td></tr>\n",
       "<tr><td style=\"text-align: center;\">    ORM     </td><td style=\"text-align: center;\">         2346          </td><td style=\"text-align: center;\">            0.8            </td><td style=\"text-align: center;\">               1.93               </td><td style=\"text-align: center;\">             5.58              </td><td style=\"text-align: center;\">               84                </td><td style=\"text-align: center;\">                 7.3                 </td><td style=\"text-align: center;\">                    21                    </td><td style=\"text-align: center;\">                 8.2                  </td><td style=\"text-align: center;\">  4   </td></tr>\n",
       "<tr><td style=\"text-align: center;\">Ventarrones </td><td style=\"text-align: center;\">         2837          </td><td style=\"text-align: center;\">           0.91            </td><td style=\"text-align: center;\">               1.96               </td><td style=\"text-align: center;\">              4.9              </td><td style=\"text-align: center;\">               85                </td><td style=\"text-align: center;\">                10.9                 </td><td style=\"text-align: center;\">                    14                    </td><td style=\"text-align: center;\">                 5.9                  </td><td style=\"text-align: center;\">  3   </td></tr>\n",
       "<tr><td style=\"text-align: center;\">   Macon    </td><td style=\"text-align: center;\">         4653          </td><td style=\"text-align: center;\">           0.87            </td><td style=\"text-align: center;\">               1.37               </td><td style=\"text-align: center;\">             3.37              </td><td style=\"text-align: center;\">               75                </td><td style=\"text-align: center;\">                -0.2                 </td><td style=\"text-align: center;\">                    20                    </td><td style=\"text-align: center;\">                 11.3                 </td><td style=\"text-align: center;\">  2   </td></tr>\n",
       "</tbody>\n",
       "</table></div>"
      ],
      "text/plain": [
       "MDWeightedSum (mnorm=sum, wnorm=sum) - Solution:\n",
       " ALT./CRIT.    Altitude (AMSL) (max)    Total seeing ? (??) (min)    Isoplanatic angle ? 0 (??) (max)    Coherence time ? 0 (ms) (max)    Cloud: clear fraction (%) (max)    Night temperature at 2 m (?C) (min)    Night relative humidity at 2 m (%) (min)    Night wind speed at 10 m (m=s) (min)    Rank\n",
       "------------  -----------------------  ---------------------------  ----------------------------------  -------------------------------  ---------------------------------  -------------------------------------  ------------------------------------------  --------------------------------------  ------\n",
       " Armazones             3064                       0.64                             2.04                               4.6                               89                                   7.5                                       21                                       7.2                      1\n",
       "   Aklim               2350                         1                              1.29                              3.53                               76                                  12.5                                       32                                       6.2                      5\n",
       "    ORM                2346                        0.8                             1.93                              5.58                               84                                   7.3                                       21                                       8.2                      4\n",
       "Ventarrones            2837                       0.91                             1.96                               4.9                               85                                  10.9                                       14                                       5.9                      3\n",
       "   Macon               4653                       0.87                             1.37                              3.37                               75                                  -0.2                                       20                                       11.3                     2"
      ]
     },
     "execution_count": 6,
     "metadata": {},
     "output_type": "execute_result"
    }
   ],
   "source": [
    "dm = wsum.MDWeightedSum()\n",
    "wsum_dec = dm.decide(data)\n",
    "wsum_dec"
   ]
  },
  {
   "cell_type": "markdown",
   "metadata": {
    "deletable": true,
    "editable": true
   },
   "source": [
    "### Weighted Product \n",
    "\n",
    "https://en.wikipedia.org/wiki/Weighted_product_model"
   ]
  },
  {
   "cell_type": "code",
   "execution_count": 7,
   "metadata": {
    "collapsed": false,
    "deletable": true,
    "editable": true
   },
   "outputs": [
    {
     "data": {
      "text/html": [
       "<div id='dec-a17e78f6-41b1-11e7-a92e-d85de264446f'><p><b>WeightedProduct (mnorm=sum, wnorm=sum) - Solution:</b></p><table>\n",
       "<thead>\n",
       "<tr><th style=\"text-align: center;\"> ALT./CRIT. </th><th style=\"text-align: center;\"> Altitude (AMSL) (max) </th><th style=\"text-align: center;\"> Total seeing ε (′′) (min) </th><th style=\"text-align: center;\"> Isoplanatic angle θ 0 (′′) (max) </th><th style=\"text-align: center;\"> Coherence time τ 0 (ms) (max) </th><th style=\"text-align: center;\"> Cloud: clear fraction (%) (max) </th><th style=\"text-align: center;\"> Night temperature at 2 m (°C) (min) </th><th style=\"text-align: center;\"> Night relative humidity at 2 m (%) (min) </th><th style=\"text-align: center;\"> Night wind speed at 10 m (m=s) (min) </th><th style=\"text-align: center;\"> Rank </th></tr>\n",
       "</thead>\n",
       "<tbody>\n",
       "<tr><td style=\"text-align: center;\"> Armazones  </td><td style=\"text-align: center;\">         3064          </td><td style=\"text-align: center;\">           0.64            </td><td style=\"text-align: center;\">               2.04               </td><td style=\"text-align: center;\">              4.6              </td><td style=\"text-align: center;\">               89                </td><td style=\"text-align: center;\">                 7.5                 </td><td style=\"text-align: center;\">                    21                    </td><td style=\"text-align: center;\">                 7.2                  </td><td style=\"text-align: center;\">  2   </td></tr>\n",
       "<tr><td style=\"text-align: center;\">   Aklim    </td><td style=\"text-align: center;\">         2350          </td><td style=\"text-align: center;\">             1             </td><td style=\"text-align: center;\">               1.29               </td><td style=\"text-align: center;\">             3.53              </td><td style=\"text-align: center;\">               76                </td><td style=\"text-align: center;\">                12.5                 </td><td style=\"text-align: center;\">                    32                    </td><td style=\"text-align: center;\">                 6.2                  </td><td style=\"text-align: center;\">  5   </td></tr>\n",
       "<tr><td style=\"text-align: center;\">    ORM     </td><td style=\"text-align: center;\">         2346          </td><td style=\"text-align: center;\">            0.8            </td><td style=\"text-align: center;\">               1.93               </td><td style=\"text-align: center;\">             5.58              </td><td style=\"text-align: center;\">               84                </td><td style=\"text-align: center;\">                 7.3                 </td><td style=\"text-align: center;\">                    21                    </td><td style=\"text-align: center;\">                 8.2                  </td><td style=\"text-align: center;\">  4   </td></tr>\n",
       "<tr><td style=\"text-align: center;\">Ventarrones </td><td style=\"text-align: center;\">         2837          </td><td style=\"text-align: center;\">           0.91            </td><td style=\"text-align: center;\">               1.96               </td><td style=\"text-align: center;\">              4.9              </td><td style=\"text-align: center;\">               85                </td><td style=\"text-align: center;\">                10.9                 </td><td style=\"text-align: center;\">                    14                    </td><td style=\"text-align: center;\">                 5.9                  </td><td style=\"text-align: center;\">  3   </td></tr>\n",
       "<tr><td style=\"text-align: center;\">   Macon    </td><td style=\"text-align: center;\">         4653          </td><td style=\"text-align: center;\">           0.87            </td><td style=\"text-align: center;\">               1.37               </td><td style=\"text-align: center;\">             3.37              </td><td style=\"text-align: center;\">               75                </td><td style=\"text-align: center;\">                -0.2                 </td><td style=\"text-align: center;\">                    20                    </td><td style=\"text-align: center;\">                 11.3                 </td><td style=\"text-align: center;\">  1   </td></tr>\n",
       "</tbody>\n",
       "</table></div>"
      ],
      "text/plain": [
       "WeightedProduct (mnorm=sum, wnorm=sum) - Solution:\n",
       " ALT./CRIT.    Altitude (AMSL) (max)    Total seeing ? (??) (min)    Isoplanatic angle ? 0 (??) (max)    Coherence time ? 0 (ms) (max)    Cloud: clear fraction (%) (max)    Night temperature at 2 m (?C) (min)    Night relative humidity at 2 m (%) (min)    Night wind speed at 10 m (m=s) (min)    Rank\n",
       "------------  -----------------------  ---------------------------  ----------------------------------  -------------------------------  ---------------------------------  -------------------------------------  ------------------------------------------  --------------------------------------  ------\n",
       " Armazones             3064                       0.64                             2.04                               4.6                               89                                   7.5                                       21                                       7.2                      2\n",
       "   Aklim               2350                         1                              1.29                              3.53                               76                                  12.5                                       32                                       6.2                      5\n",
       "    ORM                2346                        0.8                             1.93                              5.58                               84                                   7.3                                       21                                       8.2                      4\n",
       "Ventarrones            2837                       0.91                             1.96                               4.9                               85                                  10.9                                       14                                       5.9                      3\n",
       "   Macon               4653                       0.87                             1.37                              3.37                               75                                  -0.2                                       20                                       11.3                     1"
      ]
     },
     "execution_count": 7,
     "metadata": {},
     "output_type": "execute_result"
    }
   ],
   "source": [
    "dm = wprod.WeightedProduct()\n",
    "wprod_dec = dm.decide(data)\n",
    "wprod_dec"
   ]
  },
  {
   "cell_type": "markdown",
   "metadata": {
    "deletable": true,
    "editable": true
   },
   "source": [
    "### ELECTRE 1\n",
    "\n",
    "https://en.wikipedia.org/wiki/ELECTRE"
   ]
  },
  {
   "cell_type": "code",
   "execution_count": 8,
   "metadata": {
    "collapsed": false,
    "deletable": true,
    "editable": true
   },
   "outputs": [
    {
     "data": {
      "text/html": [
       "<div id='dec-a17e78f7-41b1-11e7-a92e-d85de264446f'><p><b>ELECTRE1 (mnorm=sum, p=0.65, q=0.35, wnorm=sum) - Solution:</b></p><table>\n",
       "<thead>\n",
       "<tr><th style=\"text-align: center;\"> ALT./CRIT. </th><th style=\"text-align: center;\"> Altitude (AMSL) (max) </th><th style=\"text-align: center;\"> Total seeing ε (′′) (min) </th><th style=\"text-align: center;\"> Isoplanatic angle θ 0 (′′) (max) </th><th style=\"text-align: center;\"> Coherence time τ 0 (ms) (max) </th><th style=\"text-align: center;\"> Cloud: clear fraction (%) (max) </th><th style=\"text-align: center;\"> Night temperature at 2 m (°C) (min) </th><th style=\"text-align: center;\"> Night relative humidity at 2 m (%) (min) </th><th style=\"text-align: center;\"> Night wind speed at 10 m (m=s) (min) </th><th style=\"text-align: center;\"> Kernel </th></tr>\n",
       "</thead>\n",
       "<tbody>\n",
       "<tr><td style=\"text-align: center;\"> Armazones  </td><td style=\"text-align: center;\">         3064          </td><td style=\"text-align: center;\">           0.64            </td><td style=\"text-align: center;\">               2.04               </td><td style=\"text-align: center;\">              4.6              </td><td style=\"text-align: center;\">               89                </td><td style=\"text-align: center;\">                 7.5                 </td><td style=\"text-align: center;\">                    21                    </td><td style=\"text-align: center;\">                 7.2                  </td><td style=\"text-align: center;\">        </td></tr>\n",
       "<tr><td style=\"text-align: center;\">   Aklim    </td><td style=\"text-align: center;\">         2350          </td><td style=\"text-align: center;\">             1             </td><td style=\"text-align: center;\">               1.29               </td><td style=\"text-align: center;\">             3.53              </td><td style=\"text-align: center;\">               76                </td><td style=\"text-align: center;\">                12.5                 </td><td style=\"text-align: center;\">                    32                    </td><td style=\"text-align: center;\">                 6.2                  </td><td style=\"text-align: center;\">        </td></tr>\n",
       "<tr><td style=\"text-align: center;\">    ORM     </td><td style=\"text-align: center;\">         2346          </td><td style=\"text-align: center;\">            0.8            </td><td style=\"text-align: center;\">               1.93               </td><td style=\"text-align: center;\">             5.58              </td><td style=\"text-align: center;\">               84                </td><td style=\"text-align: center;\">                 7.3                 </td><td style=\"text-align: center;\">                    21                    </td><td style=\"text-align: center;\">                 8.2                  </td><td style=\"text-align: center;\">        </td></tr>\n",
       "<tr><td style=\"text-align: center;\">Ventarrones </td><td style=\"text-align: center;\">         2837          </td><td style=\"text-align: center;\">           0.91            </td><td style=\"text-align: center;\">               1.96               </td><td style=\"text-align: center;\">              4.9              </td><td style=\"text-align: center;\">               85                </td><td style=\"text-align: center;\">                10.9                 </td><td style=\"text-align: center;\">                    14                    </td><td style=\"text-align: center;\">                 5.9                  </td><td style=\"text-align: center;\">        </td></tr>\n",
       "<tr><td style=\"text-align: center;\">   Macon    </td><td style=\"text-align: center;\">         4653          </td><td style=\"text-align: center;\">           0.87            </td><td style=\"text-align: center;\">               1.37               </td><td style=\"text-align: center;\">             3.37              </td><td style=\"text-align: center;\">               75                </td><td style=\"text-align: center;\">                -0.2                 </td><td style=\"text-align: center;\">                    20                    </td><td style=\"text-align: center;\">                 11.3                 </td><td style=\"text-align: center;\">   @    </td></tr>\n",
       "</tbody>\n",
       "</table></div>"
      ],
      "text/plain": [
       "ELECTRE1 (mnorm=sum, p=0.65, q=0.35, wnorm=sum) - Solution:\n",
       " ALT./CRIT.    Altitude (AMSL) (max)    Total seeing ? (??) (min)    Isoplanatic angle ? 0 (??) (max)    Coherence time ? 0 (ms) (max)    Cloud: clear fraction (%) (max)    Night temperature at 2 m (?C) (min)    Night relative humidity at 2 m (%) (min)    Night wind speed at 10 m (m=s) (min)    Kernel\n",
       "------------  -----------------------  ---------------------------  ----------------------------------  -------------------------------  ---------------------------------  -------------------------------------  ------------------------------------------  --------------------------------------  --------\n",
       " Armazones             3064                       0.64                             2.04                               4.6                               89                                   7.5                                       21                                       7.2\n",
       "   Aklim               2350                         1                              1.29                              3.53                               76                                  12.5                                       32                                       6.2\n",
       "    ORM                2346                        0.8                             1.93                              5.58                               84                                   7.3                                       21                                       8.2\n",
       "Ventarrones            2837                       0.91                             1.96                               4.9                               85                                  10.9                                       14                                       5.9\n",
       "   Macon               4653                       0.87                             1.37                              3.37                               75                                  -0.2                                       20                                       11.3                      @"
      ]
     },
     "execution_count": 8,
     "metadata": {},
     "output_type": "execute_result"
    }
   ],
   "source": [
    "dm = electre.ELECTRE1()\n",
    "electre_dec = dm.decide(data)\n",
    "electre_dec"
   ]
  },
  {
   "cell_type": "markdown",
   "metadata": {
    "collapsed": true,
    "deletable": true,
    "editable": true
   },
   "source": [
    "### Results"
   ]
  },
  {
   "cell_type": "code",
   "execution_count": 9,
   "metadata": {
    "collapsed": false,
    "deletable": true,
    "editable": true
   },
   "outputs": [
    {
     "data": {
      "text/html": [
       "<div>\n",
       "<table border=\"1\" class=\"dataframe\">\n",
       "  <thead>\n",
       "    <tr style=\"text-align: right;\">\n",
       "      <th></th>\n",
       "      <th>TOPSIS</th>\n",
       "      <th>WSUM</th>\n",
       "      <th>WPROD</th>\n",
       "      <th>ELECTRE 1 Kernel</th>\n",
       "    </tr>\n",
       "  </thead>\n",
       "  <tbody>\n",
       "    <tr>\n",
       "      <th>Armazones</th>\n",
       "      <td>2</td>\n",
       "      <td>1</td>\n",
       "      <td>2</td>\n",
       "      <td>0</td>\n",
       "    </tr>\n",
       "    <tr>\n",
       "      <th>Aklim</th>\n",
       "      <td>5</td>\n",
       "      <td>5</td>\n",
       "      <td>5</td>\n",
       "      <td>0</td>\n",
       "    </tr>\n",
       "    <tr>\n",
       "      <th>ORM</th>\n",
       "      <td>3</td>\n",
       "      <td>4</td>\n",
       "      <td>4</td>\n",
       "      <td>0</td>\n",
       "    </tr>\n",
       "    <tr>\n",
       "      <th>Ventarrones</th>\n",
       "      <td>4</td>\n",
       "      <td>3</td>\n",
       "      <td>3</td>\n",
       "      <td>0</td>\n",
       "    </tr>\n",
       "    <tr>\n",
       "      <th>Macon</th>\n",
       "      <td>1</td>\n",
       "      <td>2</td>\n",
       "      <td>1</td>\n",
       "      <td>1</td>\n",
       "    </tr>\n",
       "  </tbody>\n",
       "</table>\n",
       "</div>"
      ],
      "text/plain": [
       "             TOPSIS  WSUM  WPROD  ELECTRE 1 Kernel\n",
       "Armazones         2     1      2                 0\n",
       "Aklim             5     5      5                 0\n",
       "ORM               3     4      4                 0\n",
       "Ventarrones       4     3      3                 0\n",
       "Macon             1     2      1                 1"
      ]
     },
     "execution_count": 9,
     "metadata": {},
     "output_type": "execute_result"
    }
   ],
   "source": [
    "methods = [\"TOPSIS\", \"WSUM\", \"WPROD\"]\n",
    "kernel = np.array([1 if idx  in electre_dec.kernel_ else 0 for idx, _ in enumerate(anames)])\n",
    "ranks = np.vstack((topsis_dec.rank_, wsum_dec.rank_, wprod_dec.rank_, kernel)).T\n",
    "rdf = pd.DataFrame(ranks, index=anames, columns=methods + [\"ELECTRE 1 Kernel\"])\n",
    "rdf"
   ]
  },
  {
   "cell_type": "code",
   "execution_count": 10,
   "metadata": {
    "collapsed": false,
    "deletable": true,
    "editable": true
   },
   "outputs": [
    {
     "data": {
      "text/html": [
       "<div>\n",
       "<table border=\"1\" class=\"dataframe\">\n",
       "  <thead>\n",
       "    <tr style=\"text-align: right;\">\n",
       "      <th></th>\n",
       "      <th>Armazones</th>\n",
       "      <th>Aklim</th>\n",
       "      <th>ORM</th>\n",
       "      <th>Ventarrones</th>\n",
       "      <th>Macon</th>\n",
       "    </tr>\n",
       "  </thead>\n",
       "  <tbody>\n",
       "    <tr>\n",
       "      <th>count</th>\n",
       "      <td>3.000000</td>\n",
       "      <td>3.0</td>\n",
       "      <td>3.000000</td>\n",
       "      <td>3.000000</td>\n",
       "      <td>3.000000</td>\n",
       "    </tr>\n",
       "    <tr>\n",
       "      <th>mean</th>\n",
       "      <td>1.666667</td>\n",
       "      <td>5.0</td>\n",
       "      <td>3.666667</td>\n",
       "      <td>3.333333</td>\n",
       "      <td>1.333333</td>\n",
       "    </tr>\n",
       "    <tr>\n",
       "      <th>std</th>\n",
       "      <td>0.577350</td>\n",
       "      <td>0.0</td>\n",
       "      <td>0.577350</td>\n",
       "      <td>0.577350</td>\n",
       "      <td>0.577350</td>\n",
       "    </tr>\n",
       "    <tr>\n",
       "      <th>min</th>\n",
       "      <td>1.000000</td>\n",
       "      <td>5.0</td>\n",
       "      <td>3.000000</td>\n",
       "      <td>3.000000</td>\n",
       "      <td>1.000000</td>\n",
       "    </tr>\n",
       "    <tr>\n",
       "      <th>25%</th>\n",
       "      <td>1.500000</td>\n",
       "      <td>5.0</td>\n",
       "      <td>3.500000</td>\n",
       "      <td>3.000000</td>\n",
       "      <td>1.000000</td>\n",
       "    </tr>\n",
       "    <tr>\n",
       "      <th>50%</th>\n",
       "      <td>2.000000</td>\n",
       "      <td>5.0</td>\n",
       "      <td>4.000000</td>\n",
       "      <td>3.000000</td>\n",
       "      <td>1.000000</td>\n",
       "    </tr>\n",
       "    <tr>\n",
       "      <th>75%</th>\n",
       "      <td>2.000000</td>\n",
       "      <td>5.0</td>\n",
       "      <td>4.000000</td>\n",
       "      <td>3.500000</td>\n",
       "      <td>1.500000</td>\n",
       "    </tr>\n",
       "    <tr>\n",
       "      <th>max</th>\n",
       "      <td>2.000000</td>\n",
       "      <td>5.0</td>\n",
       "      <td>4.000000</td>\n",
       "      <td>4.000000</td>\n",
       "      <td>2.000000</td>\n",
       "    </tr>\n",
       "  </tbody>\n",
       "</table>\n",
       "</div>"
      ],
      "text/plain": [
       "       Armazones  Aklim       ORM  Ventarrones     Macon\n",
       "count   3.000000    3.0  3.000000     3.000000  3.000000\n",
       "mean    1.666667    5.0  3.666667     3.333333  1.333333\n",
       "std     0.577350    0.0  0.577350     0.577350  0.577350\n",
       "min     1.000000    5.0  3.000000     3.000000  1.000000\n",
       "25%     1.500000    5.0  3.500000     3.000000  1.000000\n",
       "50%     2.000000    5.0  4.000000     3.000000  1.000000\n",
       "75%     2.000000    5.0  4.000000     3.500000  1.500000\n",
       "max     2.000000    5.0  4.000000     4.000000  2.000000"
      ]
     },
     "execution_count": 10,
     "metadata": {},
     "output_type": "execute_result"
    }
   ],
   "source": [
    "rdf[methods].T.describe()"
   ]
  }
 ],
 "metadata": {
  "kernelspec": {
   "display_name": "Python 2",
   "language": "python",
   "name": "python2"
  },
  "language_info": {
   "codemirror_mode": {
    "name": "ipython",
    "version": 2
   },
   "file_extension": ".py",
   "mimetype": "text/x-python",
   "name": "python",
   "nbconvert_exporter": "python",
   "pygments_lexer": "ipython2",
   "version": "2.7.12"
  }
 },
 "nbformat": 4,
 "nbformat_minor": 2
}
