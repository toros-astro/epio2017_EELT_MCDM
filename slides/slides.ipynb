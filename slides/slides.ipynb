{
 "cells": [
  {
   "cell_type": "code",
   "execution_count": 1,
   "metadata": {
    "collapsed": true,
    "deletable": true,
    "editable": true,
    "slideshow": {
     "slide_type": "skip"
    }
   },
   "outputs": [],
   "source": [
    "# el cumputo pesado lo hago antes, estas son filminas que no son pretenciosas\n",
    "%matplotlib inline\n",
    "\n",
    "\n",
    "import pandas as pd\n",
    "\n",
    "import numpy as np\n",
    "\n",
    "import skcriteria as sc\n",
    "from skcriteria import norm\n",
    "from skcriteria.madm import topsis, wsum, moora, wprod, electre\n",
    "\n",
    "from matplotlib import pyplot as plt\n",
    "import radar\n",
    "\n",
    "from IPython.display import display\n",
    "\n",
    "df = pd.read_csv(\"../sites.csv\")[:-3]\n",
    "anames = df.columns[2:].values\n",
    "\n",
    "def to_apply(r):\n",
    "    new = []\n",
    "    for e in r:\n",
    "        if isinstance(e , str):\n",
    "            e = float(e.replace(\"*\", \"\"))\n",
    "        new.append(e)\n",
    "    return new\n",
    "\n",
    "mtx = df[anames][3:].dropna()[anames].apply(to_apply).T.values\n",
    "criteria = [sc.MIN if c == \"min\" else sc.MAX for c in df.Criteria[3:][~df.Armazones.isnull()].values]\n",
    "\n",
    "cnames = df[\"Criteria/Alternatives\"][3:].apply(lambda r: r.strip())[~df[3:].Armazones.isnull()].values\n",
    "cnames = map(lambda s: s.decode(\"utf8\"), cnames)\n",
    "\n",
    "data = sc.Data(mtx, criteria, anames=anames, cnames=cnames)\n",
    "\n",
    "dm = topsis.TOPSIS()\n",
    "topsis_dec = dm.decide(data)\n",
    "\n",
    "dm = wsum.MDWeightedSum()\n",
    "wsum_dec = dm.decide(data)\n",
    "\n",
    "dm = wprod.WeightedProduct()\n",
    "wprod_dec = dm.decide(data)\n",
    "\n",
    "dm = electre.ELECTRE1()\n",
    "electre_dec = dm.decide(data)\n",
    "\n",
    "methods = [\"TOPSIS\", \"WSUM\", \"WPROD\"]\n",
    "kernel = np.array([1 if idx  in electre_dec.kernel_ else 0 for idx, _ in enumerate(anames)])\n",
    "ranks = np.vstack((topsis_dec.rank_, wsum_dec.rank_, wprod_dec.rank_, kernel)).T\n",
    "results = pd.DataFrame(ranks, index=anames, columns=methods + [\"ELECTRE 1\"])\n",
    "\n",
    "resume = results[methods].T.describe().T[[\"min\", \"max\", \"mean\", \"std\"]]\n",
    "resume.columns = \"Best\", \"Worst\", \"Mean\", \"Std\"\n",
    "resume = resume.sort_values([\"Mean\", \"Std\"])\n",
    "\n",
    "\n",
    "def data_plot():\n",
    "\n",
    "    mincrits = np.squeeze(np.where(data.criteria == sc.MIN))\n",
    "    mincrits_inverted = 1.0 / data.mtx[:, mincrits]\n",
    "    pdata = data.mtx.astype(mincrits_inverted.dtype.type)\n",
    "    pdata[:, mincrits] = mincrits_inverted\n",
    "\n",
    "    N = len(data.criteria)\n",
    "    theta = radar.radar_factory(N, frame='polygon')\n",
    "\n",
    "    spoke_labels = data.cnames\n",
    "\n",
    "    fig, ax = plt.subplots(figsize=(6, 6), nrows=1, ncols=1,\n",
    "                           subplot_kw=dict(projection='radar'))\n",
    "    fig.subplots_adjust(wspace=0.25, hspace=0.20, top=0.85, bottom=0.05)\n",
    "\n",
    "    colors = ['b', 'r', 'g', 'm', 'y']\n",
    "    # Plot the four cases from the example data on separate axes\n",
    "    ax.set_rgrids([0.5])\n",
    "    for d, color in zip(norm.sum(pdata, axis=0), colors):\n",
    "        ax.plot(theta, d, color=color)\n",
    "        ax.fill(theta, d, facecolor=color, alpha=0.25)\n",
    "    ax.set_varlabels(spoke_labels)\n",
    "\n",
    "    # add legend relative to top-left plot\n",
    "    labels = data.anames\n",
    "    legend = ax.legend(labels, loc=(0.9, .95),\n",
    "                       labelspacing=0.1, fontsize='small')\n",
    "#     fig.text(0.5, 0.965, \"E-ELT Sites\",\n",
    "#              horizontalalignment='center', color='black', weight='bold',\n",
    "#              size='large')\n",
    "\n",
    "    plt.show()"
   ]
  },
  {
   "cell_type": "markdown",
   "metadata": {
    "deletable": true,
    "editable": true,
    "slideshow": {
     "slide_type": "slide"
    }
   },
   "source": [
    "# European Extremely Large Telescope site selection\n",
    "### A comparison between real selection and multicriteria-decision-analysis suggestions\n",
    "\n",
    "\n",
    "Juan B Cabral – Bruno O Sanchez  – Manuel Starck Cuffini\n",
    "\n",
    "[Instituto de Astronomía Teórica y Experimental](https://iate.oac.uncor.edu/)\n",
    "\n",
    "jbcabral@oac.unc.edu.ar- bruno@oac.unc.edu.ar- mstarck@oac.unc.edu.ar"
   ]
  },
  {
   "cell_type": "markdown",
   "metadata": {
    "deletable": true,
    "editable": true,
    "slideshow": {
     "slide_type": "slide"
    }
   },
   "source": [
    "## Agenda\n",
    "\n",
    "- European Extremely Large Telescope.\n",
    "- Sitios Candidatos.\n",
    "- Caracteristicas de los sitios.\n",
    "- Métodos elegidos.\n",
    "- Resultados."
   ]
  },
  {
   "cell_type": "markdown",
   "metadata": {
    "deletable": true,
    "editable": true,
    "slideshow": {
     "slide_type": "slide"
    }
   },
   "source": [
    "### European Extremely Large Telescope\n",
    "\n",
    "<img src='./imgs/eelt.jpg' width='80%'>"
   ]
  },
  {
   "cell_type": "markdown",
   "metadata": {
    "deletable": true,
    "editable": true,
    "slideshow": {
     "slide_type": "subslide"
    }
   },
   "source": [
    "### European Extremely Large Telescope\n",
    "\n",
    "Un telescopio es un gran colector de luz."
   ]
  },
  {
   "cell_type": "markdown",
   "metadata": {
    "deletable": true,
    "editable": true,
    "slideshow": {
     "slide_type": "fragment"
    }
   },
   "source": [
    "No aumenta, sino que concentra la intensidad de la luz."
   ]
  },
  {
   "cell_type": "markdown",
   "metadata": {
    "deletable": true,
    "editable": true,
    "slideshow": {
     "slide_type": "fragment"
    }
   },
   "source": [
    "El tamaño del espejo primario dicta la capacidad del instrumento."
   ]
  },
  {
   "cell_type": "markdown",
   "metadata": {
    "deletable": true,
    "editable": true,
    "slideshow": {
     "slide_type": "subslide"
    }
   },
   "source": [
    "### Espejos en los telescopios del mundo\n",
    "<img src='./imgs/mirrors.jpg' style=\"width: 65%;\">"
   ]
  },
  {
   "cell_type": "markdown",
   "metadata": {
    "deletable": true,
    "editable": true,
    "slideshow": {
     "slide_type": "fragment"
    }
   },
   "source": [
    "<small>Corresponde al instrumento óptico de mayor envergadura en esta primer mitad del siglo XXI</small>"
   ]
  },
  {
   "cell_type": "markdown",
   "metadata": {
    "deletable": true,
    "editable": true,
    "slideshow": {
     "slide_type": "subslide"
    }
   },
   "source": [
    "### E-ELT en perspectiva\n",
    "\n",
    "<img src='./imgs/eeltvs.webp' style=\"width: 85%;\">"
   ]
  },
  {
   "cell_type": "markdown",
   "metadata": {
    "deletable": true,
    "editable": true,
    "slideshow": {
     "slide_type": "slide"
    }
   },
   "source": [
    "## Sitios Candidatos\n",
    "\n",
    "Los lugares predilectos en el mundo para la ubicación de instrumental astronómico reúnen características especiales:\n",
    "\n",
    "* Lugares elevados\n",
    "* Baja humedad\n",
    "* Atmósfera sin turbulencia (llamado *seeing*)\n",
    "* Alejados de la contaminación lumínica\n",
    "* % de noches utilizables\n",
    "* Velocidad de los vientos\n",
    "* Logística"
   ]
  },
  {
   "cell_type": "markdown",
   "metadata": {
    "deletable": true,
    "editable": true,
    "slideshow": {
     "slide_type": "subslide"
    }
   },
   "source": [
    "### Los Sitios\n",
    "<img src='./imgs/sites.jpg' style=\"width:85%;\">"
   ]
  },
  {
   "cell_type": "markdown",
   "metadata": {
    "deletable": true,
    "editable": true,
    "slideshow": {
     "slide_type": "subslide"
    }
   },
   "source": [
    "### Armazones (Sitio elegido)\n",
    "\n",
    "<img src='./imgs/armazones.png' style=\"width: 65%;\">"
   ]
  },
  {
   "cell_type": "markdown",
   "metadata": {
    "deletable": true,
    "editable": true,
    "slideshow": {
     "slide_type": "subslide"
    }
   },
   "source": [
    "### Aklim\n",
    "\n",
    "<img src='./imgs/aklim.png' style=\"width: 65%;\">"
   ]
  },
  {
   "cell_type": "markdown",
   "metadata": {
    "deletable": true,
    "editable": true,
    "slideshow": {
     "slide_type": "subslide"
    }
   },
   "source": [
    "## Observatorio Roque de los Muchachos\n",
    "<img src='./imgs/orm.png' style=\"width: 65%;\">"
   ]
  },
  {
   "cell_type": "markdown",
   "metadata": {
    "deletable": true,
    "editable": true,
    "slideshow": {
     "slide_type": "subslide"
    }
   },
   "source": [
    "### Ventarrones\n",
    "\n",
    "<img src='./imgs/ventarrones.png' style=\"width: 65%;\">"
   ]
  },
  {
   "cell_type": "markdown",
   "metadata": {
    "deletable": true,
    "editable": true,
    "slideshow": {
     "slide_type": "subslide"
    }
   },
   "source": [
    "### Macón\n",
    "\n",
    "<img src='./imgs/macon.png' style=\"width: 55%;\">"
   ]
  },
  {
   "cell_type": "markdown",
   "metadata": {
    "deletable": true,
    "editable": true,
    "slideshow": {
     "slide_type": "subslide"
    }
   },
   "source": [
    "### Características de los sitios\n",
    "\n",
    "Un sitio astronómico es caracterizado cuando se determinan las **condiciones atmosféricas** a lo largo de un **período de tiempo**.\n",
    "\n",
    "La caracterización del cerro Macón consistió en campañas de duración intermedia (~meses) a lo largo de varios años. \n",
    "\n",
    "De esta forma se reunieron datos específicos como los valores de humedad, presión, fracción de nubosidad, temperatura, velocidad de viento a lo largo de un tiempo $> 1$ año.\n",
    "\n",
    "Además se llevaron a cabo observaciones astronómicas para determinar el *seeing* ($\\varepsilon$, $\\theta$, $\\tau_0$)."
   ]
  },
  {
   "cell_type": "markdown",
   "metadata": {
    "deletable": true,
    "editable": true,
    "slideshow": {
     "slide_type": "slide"
    }
   },
   "source": [
    "## Data"
   ]
  },
  {
   "cell_type": "code",
   "execution_count": 2,
   "metadata": {
    "collapsed": false,
    "deletable": true,
    "editable": true
   },
   "outputs": [
    {
     "data": {
      "text/html": [
       "<table>\n",
       "<thead>\n",
       "<tr><th style=\"text-align: center;\"> ALT./CRIT. </th><th style=\"text-align: center;\"> Altitude (AMSL) (max) </th><th style=\"text-align: center;\"> Total seeing ε (′′) (min) </th><th style=\"text-align: center;\"> Isoplanatic angle θ 0 (′′) (max) </th><th style=\"text-align: center;\"> Coherence time τ 0 (ms) (max) </th><th style=\"text-align: center;\"> Cloud: clear fraction (%) (max) </th><th style=\"text-align: center;\"> Night temperature at 2 m (°C) (min) </th><th style=\"text-align: center;\"> Night relative humidity at 2 m (%) (min) </th><th style=\"text-align: center;\"> Night wind speed at 10 m (m=s) (min) </th></tr>\n",
       "</thead>\n",
       "<tbody>\n",
       "<tr><td style=\"text-align: center;\"> Armazones  </td><td style=\"text-align: center;\">         3064          </td><td style=\"text-align: center;\">           0.64            </td><td style=\"text-align: center;\">               2.04               </td><td style=\"text-align: center;\">              4.6              </td><td style=\"text-align: center;\">               89                </td><td style=\"text-align: center;\">                 7.5                 </td><td style=\"text-align: center;\">                    21                    </td><td style=\"text-align: center;\">                 7.2                  </td></tr>\n",
       "<tr><td style=\"text-align: center;\">   Aklim    </td><td style=\"text-align: center;\">         2350          </td><td style=\"text-align: center;\">             1             </td><td style=\"text-align: center;\">               1.29               </td><td style=\"text-align: center;\">             3.53              </td><td style=\"text-align: center;\">               76                </td><td style=\"text-align: center;\">                12.5                 </td><td style=\"text-align: center;\">                    32                    </td><td style=\"text-align: center;\">                 6.2                  </td></tr>\n",
       "<tr><td style=\"text-align: center;\">    ORM     </td><td style=\"text-align: center;\">         2346          </td><td style=\"text-align: center;\">            0.8            </td><td style=\"text-align: center;\">               1.93               </td><td style=\"text-align: center;\">             5.58              </td><td style=\"text-align: center;\">               84                </td><td style=\"text-align: center;\">                 7.3                 </td><td style=\"text-align: center;\">                    21                    </td><td style=\"text-align: center;\">                 8.2                  </td></tr>\n",
       "<tr><td style=\"text-align: center;\">Ventarrones </td><td style=\"text-align: center;\">         2837          </td><td style=\"text-align: center;\">           0.91            </td><td style=\"text-align: center;\">               1.96               </td><td style=\"text-align: center;\">              4.9              </td><td style=\"text-align: center;\">               85                </td><td style=\"text-align: center;\">                10.9                 </td><td style=\"text-align: center;\">                    14                    </td><td style=\"text-align: center;\">                 5.9                  </td></tr>\n",
       "<tr><td style=\"text-align: center;\">   Macon    </td><td style=\"text-align: center;\">         4653          </td><td style=\"text-align: center;\">           0.87            </td><td style=\"text-align: center;\">               1.37               </td><td style=\"text-align: center;\">             3.37              </td><td style=\"text-align: center;\">               75                </td><td style=\"text-align: center;\">                -0.2                 </td><td style=\"text-align: center;\">                    20                    </td><td style=\"text-align: center;\">                 11.3                 </td></tr>\n",
       "</tbody>\n",
       "</table>"
      ],
      "text/plain": [
       " ALT./CRIT.    Altitude (AMSL) (max)    Total seeing ? (??) (min)    Isoplanatic angle ? 0 (??) (max)    Coherence time ? 0 (ms) (max)    Cloud: clear fraction (%) (max)    Night temperature at 2 m (?C) (min)    Night relative humidity at 2 m (%) (min)    Night wind speed at 10 m (m=s) (min)\n",
       "------------  -----------------------  ---------------------------  ----------------------------------  -------------------------------  ---------------------------------  -------------------------------------  ------------------------------------------  --------------------------------------\n",
       " Armazones             3064                       0.64                             2.04                               4.6                               89                                   7.5                                       21                                       7.2\n",
       "   Aklim               2350                         1                              1.29                              3.53                               76                                  12.5                                       32                                       6.2\n",
       "    ORM                2346                        0.8                             1.93                              5.58                               84                                   7.3                                       21                                       8.2\n",
       "Ventarrones            2837                       0.91                             1.96                               4.9                               85                                  10.9                                       14                                       5.9\n",
       "   Macon               4653                       0.87                             1.37                              3.37                               75                                  -0.2                                       20                                       11.3"
      ]
     },
     "metadata": {},
     "output_type": "display_data"
    }
   ],
   "source": [
    "display(data)"
   ]
  },
  {
   "cell_type": "markdown",
   "metadata": {
    "deletable": true,
    "editable": true,
    "slideshow": {
     "slide_type": "slide"
    }
   },
   "source": [
    "## Métodos\n",
    "\n",
    "**Weighted sum model (WSum)** <small>(Fishburn, 1967)</small>\n",
    "\n",
    "This method scalarizes the set of objectives into a single\n",
    "objective by multiplying each objective with a user supplied\n",
    "weight.\n",
    "\n",
    "----\n",
    "\n",
    "**Weighted Product Model (WProd)** <small>(Bridgman, 1922) (Miller and Starr, 1969)</small>\n",
    "\n",
    "Each decision alternative is compared with the others by multiplying a number of ratios, one for each decision criterion. Each ratio is raised to the power equivalent to the relative weight of the corresponding criterion."
   ]
  },
  {
   "cell_type": "markdown",
   "metadata": {
    "deletable": true,
    "editable": true,
    "slideshow": {
     "slide_type": "subslide"
    }
   },
   "source": [
    "## Métodos (cont.)\n",
    "\n",
    "**Technique for Order of Preference by Similarity to Ideal Solution (TOPSIS)** <small>(Hwang and Yoon, 1981)</small>\n",
    "\n",
    "Based on the concept that the chosen alternative should have the shortest geometric distance from the positive ideal solution and the longest geometric distance from the negative ideal solution.\n",
    "\n",
    "----\n",
    "\n",
    "**ELimination Et Choix Traduisant la REalité (ELECTRE)** <small>(Roy, 1968)</small>\n",
    "\n",
    "There are two main parts to an ELECTRE application: first, the construction of one or several outranking relations, which aims at comparing in a comprehensive way each pair of actions; second, an exploitation procedure that elaborates on the recommendations obtained in the first phase."
   ]
  },
  {
   "cell_type": "markdown",
   "metadata": {
    "collapsed": true,
    "deletable": true,
    "editable": true,
    "slideshow": {
     "slide_type": "slide"
    }
   },
   "source": [
    "## Resultados"
   ]
  },
  {
   "cell_type": "code",
   "execution_count": 3,
   "metadata": {
    "collapsed": false,
    "deletable": true,
    "editable": true,
    "slideshow": {
     "slide_type": "fragment"
    }
   },
   "outputs": [
    {
     "data": {
      "text/html": [
       "<div>\n",
       "<table border=\"1\" class=\"dataframe\">\n",
       "  <thead>\n",
       "    <tr style=\"text-align: right;\">\n",
       "      <th></th>\n",
       "      <th>TOPSIS</th>\n",
       "      <th>WSUM</th>\n",
       "      <th>WPROD</th>\n",
       "      <th>ELECTRE 1</th>\n",
       "    </tr>\n",
       "  </thead>\n",
       "  <tbody>\n",
       "    <tr>\n",
       "      <th>Armazones</th>\n",
       "      <td>2</td>\n",
       "      <td>1</td>\n",
       "      <td>2</td>\n",
       "      <td>0</td>\n",
       "    </tr>\n",
       "    <tr>\n",
       "      <th>Aklim</th>\n",
       "      <td>5</td>\n",
       "      <td>5</td>\n",
       "      <td>5</td>\n",
       "      <td>0</td>\n",
       "    </tr>\n",
       "    <tr>\n",
       "      <th>ORM</th>\n",
       "      <td>3</td>\n",
       "      <td>4</td>\n",
       "      <td>4</td>\n",
       "      <td>0</td>\n",
       "    </tr>\n",
       "    <tr>\n",
       "      <th>Ventarrones</th>\n",
       "      <td>4</td>\n",
       "      <td>3</td>\n",
       "      <td>3</td>\n",
       "      <td>0</td>\n",
       "    </tr>\n",
       "    <tr>\n",
       "      <th>Macon</th>\n",
       "      <td>1</td>\n",
       "      <td>2</td>\n",
       "      <td>1</td>\n",
       "      <td>1</td>\n",
       "    </tr>\n",
       "  </tbody>\n",
       "</table>\n",
       "</div>"
      ],
      "text/plain": [
       "             TOPSIS  WSUM  WPROD  ELECTRE 1\n",
       "Armazones         2     1      2          0\n",
       "Aklim             5     5      5          0\n",
       "ORM               3     4      4          0\n",
       "Ventarrones       4     3      3          0\n",
       "Macon             1     2      1          1"
      ]
     },
     "execution_count": 3,
     "metadata": {},
     "output_type": "execute_result"
    }
   ],
   "source": [
    "results"
   ]
  },
  {
   "cell_type": "code",
   "execution_count": 4,
   "metadata": {
    "collapsed": false,
    "deletable": true,
    "editable": true,
    "slideshow": {
     "slide_type": "fragment"
    }
   },
   "outputs": [
    {
     "data": {
      "text/html": [
       "<div>\n",
       "<table border=\"1\" class=\"dataframe\">\n",
       "  <thead>\n",
       "    <tr style=\"text-align: right;\">\n",
       "      <th></th>\n",
       "      <th>Best</th>\n",
       "      <th>Worst</th>\n",
       "      <th>Mean</th>\n",
       "      <th>Std</th>\n",
       "    </tr>\n",
       "  </thead>\n",
       "  <tbody>\n",
       "    <tr>\n",
       "      <th>Macon</th>\n",
       "      <td>1.0</td>\n",
       "      <td>2.0</td>\n",
       "      <td>1.333333</td>\n",
       "      <td>0.57735</td>\n",
       "    </tr>\n",
       "    <tr>\n",
       "      <th>Armazones</th>\n",
       "      <td>1.0</td>\n",
       "      <td>2.0</td>\n",
       "      <td>1.666667</td>\n",
       "      <td>0.57735</td>\n",
       "    </tr>\n",
       "    <tr>\n",
       "      <th>Ventarrones</th>\n",
       "      <td>3.0</td>\n",
       "      <td>4.0</td>\n",
       "      <td>3.333333</td>\n",
       "      <td>0.57735</td>\n",
       "    </tr>\n",
       "    <tr>\n",
       "      <th>ORM</th>\n",
       "      <td>3.0</td>\n",
       "      <td>4.0</td>\n",
       "      <td>3.666667</td>\n",
       "      <td>0.57735</td>\n",
       "    </tr>\n",
       "    <tr>\n",
       "      <th>Aklim</th>\n",
       "      <td>5.0</td>\n",
       "      <td>5.0</td>\n",
       "      <td>5.000000</td>\n",
       "      <td>0.00000</td>\n",
       "    </tr>\n",
       "  </tbody>\n",
       "</table>\n",
       "</div>"
      ],
      "text/plain": [
       "             Best  Worst      Mean      Std\n",
       "Macon         1.0    2.0  1.333333  0.57735\n",
       "Armazones     1.0    2.0  1.666667  0.57735\n",
       "Ventarrones   3.0    4.0  3.333333  0.57735\n",
       "ORM           3.0    4.0  3.666667  0.57735\n",
       "Aklim         5.0    5.0  5.000000  0.00000"
      ]
     },
     "execution_count": 4,
     "metadata": {},
     "output_type": "execute_result"
    }
   ],
   "source": [
    "resume"
   ]
  },
  {
   "cell_type": "markdown",
   "metadata": {
    "deletable": true,
    "editable": true,
    "slideshow": {
     "slide_type": "slide"
    }
   },
   "source": [
    "## Concluyendo\n",
    "\n",
    "### Como se ven los datos?"
   ]
  },
  {
   "cell_type": "code",
   "execution_count": 6,
   "metadata": {
    "collapsed": false,
    "deletable": true,
    "editable": true,
    "slideshow": {
     "slide_type": "fragment"
    }
   },
   "outputs": [
    {
     "data": {
      "image/png": "[encoded data removed]",
      "text/plain": [
       "<matplotlib.figure.Figure at 0x7f8b0015fb50>"
      ]
     },
     "metadata": {},
     "output_type": "display_data"
    }
   ],
   "source": [
    "data_plot()"
   ]
  },
  {
   "cell_type": "markdown",
   "metadata": {
    "deletable": true,
    "editable": true,
    "slideshow": {
     "slide_type": "subslide"
    }
   },
   "source": [
    "### Paranal\n",
    "\n",
    "<img src='imgs/dobleparanal.png ' style=\"width: 80%;\">"
   ]
  },
  {
   "cell_type": "markdown",
   "metadata": {
    "deletable": true,
    "editable": true,
    "slideshow": {
     "slide_type": "subslide"
    }
   },
   "source": [
    "### Paranal\n",
    "\n",
    "<img src='imgs/paranal.png ' style=\"width: 70%;\">"
   ]
  },
  {
   "cell_type": "markdown",
   "metadata": {
    "deletable": true,
    "editable": true,
    "slideshow": {
     "slide_type": "slide"
    }
   },
   "source": [
    "## ¿Preguntas?\n",
    "\n",
    "[Instituto de Astronomía Teórica y Experimental](https://iate.oac.uncor.edu/)\n",
    "\n",
    "jbcabral@oac.unc.edu.ar - bruno@oac.unc.edu.ar\n",
    "\n",
    "**Todo el trabajo y datos esta disponible en:** https://github.com/toros-astro/epio2017_EELT_MCDM"
   ]
  }
 ],
 "metadata": {
  "celltoolbar": "Slideshow",
  "kernelspec": {
   "display_name": "Python 2",
   "language": "python",
   "name": "python2"
  },
  "language_info": {
   "codemirror_mode": {
    "name": "ipython",
    "version": 2
   },
   "file_extension": ".py",
   "mimetype": "text/x-python",
   "name": "python",
   "nbconvert_exporter": "python",
   "pygments_lexer": "ipython2",
   "version": "2.7.9"
  }
 },
 "nbformat": 4,
 "nbformat_minor": 2
}
